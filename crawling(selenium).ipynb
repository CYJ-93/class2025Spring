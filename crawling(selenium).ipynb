{
  "cells": [
    {
      "cell_type": "markdown",
      "metadata": {
        "id": "view-in-github",
        "colab_type": "text"
      },
      "source": [
        "<a href=\"https://colab.research.google.com/github/nkyc-no-name/class2025Spring/blob/main/crawling(selenium).ipynb\" target=\"_parent\"><img src=\"https://colab.research.google.com/assets/colab-badge.svg\" alt=\"Open In Colab\"/></a>"
      ]
    },
    {
      "cell_type": "code",
      "execution_count": null,
      "metadata": {
        "id": "FVqnz0tcAVFM"
      },
      "outputs": [],
      "source": [
        "!pip install selenium"
      ]
    },
    {
      "cell_type": "code",
      "execution_count": null,
      "metadata": {
        "id": "8xUALw60_lie"
      },
      "outputs": [],
      "source": [
        "from selenium import webdriver\n",
        "from selenium.webdriver.common.by import By\n",
        "\n",
        "URL = \"https://product.kyobobook.co.kr/detail/S000000620181\"\n",
        "\n",
        "options = webdriver.ChromeOptions()\n",
        "options.add_argument(\" --headless\")\n",
        "options.add_argument(\" --disable-dev-shm-usage\")\n",
        "options.add_argument(\" --no-sandbox\")\n",
        "driver = webdriver.Chrome(options=options)\n",
        "driver.get(URL)\n",
        "print(driver.title)"
      ]
    },
    {
      "cell_type": "code",
      "execution_count": null,
      "metadata": {
        "id": "iU1ID2KO3dDn"
      },
      "outputs": [],
      "source": [
        "comment_texts = driver.find_elements(By.CLASS_NAME, 'comment_text')\n",
        "for tmp in comment_texts:\n",
        "    print(tmp.text)"
      ]
    },
    {
      "cell_type": "code",
      "execution_count": 13,
      "metadata": {
        "id": "VAwABAPp0Pl4"
      },
      "outputs": [],
      "source": [
        "btn_page = driver.find_element(By.CLASS_NAME, 'btn_page.next')\n",
        "\n",
        "overlapping_element = driver.find_element(By.CSS_SELECTOR, '#contents > div.prod_detail_footer')\n",
        "driver.execute_script(\"arguments[0].remove()\", overlapping_element)"
      ]
    },
    {
      "cell_type": "code",
      "source": [
        "from bs4 import BeautifulSoup\n",
        "html = driver.page_source\n",
        "soup = BeautifulSoup(html, 'html.parser')\n",
        "\n",
        "last_page = soup.select_one(\"#ReviewList1 > div.tab_wrap.type_sm > div.tab_content > div > div.pagination > div > a:nth-child(10)\")\n",
        "last_page_num = int(last_page.get_text())"
      ],
      "metadata": {
        "id": "ObD0ciJzv2K8"
      },
      "execution_count": 14,
      "outputs": []
    },
    {
      "cell_type": "code",
      "source": [
        "import time\n",
        "\n",
        "for n in range(last_page_num-1):\n",
        "  btn_page.click()\n",
        "  time.sleep(1)\n",
        "  comment_texts = driver.find_elements(By.CLASS_NAME, 'comment_text')\n",
        "  for tmp in comment_texts:\n",
        "      print(tmp.text)\n",
        "      print('===============================')\n",
        "\n",
        "driver.quit()"
      ],
      "metadata": {
        "id": "eD9yfRJY44zI"
      },
      "execution_count": null,
      "outputs": []
    }
  ],
  "metadata": {
    "colab": {
      "provenance": [],
      "include_colab_link": true
    },
    "kernelspec": {
      "display_name": "Python 3",
      "name": "python3"
    },
    "language_info": {
      "codemirror_mode": {
        "name": "ipython",
        "version": 3
      },
      "file_extension": ".py",
      "mimetype": "text/x-python",
      "name": "python",
      "nbconvert_exporter": "python",
      "pygments_lexer": "ipython3",
      "version": "3.12.2"
    }
  },
  "nbformat": 4,
  "nbformat_minor": 0
}